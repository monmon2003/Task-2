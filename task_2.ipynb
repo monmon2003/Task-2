{
 "cells": [
  {
   "cell_type": "code",
   "execution_count": 1,
   "metadata": {},
   "outputs": [],
   "source": [
    "from keras.layers import TextVectorization\n",
    "import re\n",
    "import tensorflow.strings as tf_strings\n",
    "import json\n",
    "import string\n",
    "from keras.models import load_model\n",
    "from tensorflow import argmax\n",
    "from keras.preprocessing.text import tokenizer_from_json\n",
    "from keras.utils import pad_sequences\n",
    "import numpy as np\n",
    "import tensorflow as tf"
   ]
  },
  {
   "cell_type": "code",
   "execution_count": 2,
   "metadata": {},
   "outputs": [],
   "source": [
    "def beam_search_decoder(data, k):\n",
    "    sequences = [[list(), 0.0]]\n",
    "    for row in data:\n",
    "        all_candidates = list()\n",
    "        for i in range(len(sequences)):\n",
    "            seq, score = sequences[i]\n",
    "            for j in range(len(row)):\n",
    "                candidate = [seq + [j], score - tf.math.log(row[j]).numpy()]\n",
    "                all_candidates.append(candidate)\n",
    "        ordered = sorted(all_candidates, key=lambda tup: tup[1])\n",
    "        sequences = ordered[:k]\n",
    "    return sequences"
   ]
  },
  {
   "cell_type": "code",
   "execution_count": 4,
   "metadata": {},
   "outputs": [
    {
     "name": "stdout",
     "output_type": "stream",
     "text": [
      "1/1 [==============================] - 3s 3s/step\n"
     ]
    }
   ],
   "source": [
    "#load  French model\n",
    "model = load_model('english_to_french_model')\n",
    "\n",
    "#load Tokenizer\n",
    "with open('english_tokenizer.json') as f:\n",
    "    data = json.load(f)\n",
    "    english_tokenizer = tokenizer_from_json(data)\n",
    "    \n",
    "with open('French_tokenizer.json') as f:\n",
    "    data = json.load(f)\n",
    "    french_tokenizer = tokenizer_from_json(data)\n",
    "    \n",
    "\n",
    "#load max length\n",
    "with open('sequence_length.json') as f:\n",
    "    max_length = json.load(f)\n",
    "    \n",
    "def pad(x, length=None):\n",
    "    return pad_sequences(x, maxlen=length, padding='post')\n",
    "\n",
    "english_sentence = \"new jersey is sometimes quiet during autumn , and it is snowy in april .\"\n",
    "english_sentence = english_sentence.lower()\n",
    "\n",
    "english_sentence = english_sentence.replace(\".\", '')\n",
    "english_sentence = english_sentence.replace(\"?\", '')\n",
    "english_sentence = english_sentence.replace(\"!\", '')\n",
    "english_sentence = english_sentence.replace(\",\", '')\n",
    "\n",
    "english_sentence = english_tokenizer.texts_to_sequences([english_sentence])\n",
    "english_sentence = pad(english_sentence, max_length)\n",
    "\n",
    "english_sentence = english_sentence.reshape((-1,max_length))\n",
    "\n",
    "french_sentence = model.predict(english_sentence)\n"
   ]
  },
  {
   "cell_type": "code",
   "execution_count": 5,
   "metadata": {},
   "outputs": [
    {
     "name": "stdout",
     "output_type": "stream",
     "text": [
      "Decoded sequences: [[[35], 0.0], [[34], 20.797693252563477], [[4], 25.716947555541992]]\n"
     ]
    }
   ],
   "source": [
    "data = np.transpose(french_sentence, (1, 0, 2))[0]\n",
    "\n",
    "beam_width = 3\n",
    "decoded_sequences = beam_search_decoder(data, beam_width)\n",
    "print(\"Decoded sequences:\", decoded_sequences)"
   ]
  },
  {
   "cell_type": "code",
   "execution_count": 6,
   "metadata": {},
   "outputs": [],
   "source": [
    "decoded_text = []\n",
    "for i in range(3):\n",
    "    decoded_text.extend(french_tokenizer.sequences_to_texts([decoded_sequences[i][0]]))"
   ]
  },
  {
   "cell_type": "code",
   "execution_count": 7,
   "metadata": {},
   "outputs": [
    {
     "data": {
      "text/plain": [
       "['new', 'jersey', 'les']"
      ]
     },
     "execution_count": 7,
     "metadata": {},
     "output_type": "execute_result"
    }
   ],
   "source": [
    "decoded_text"
   ]
  }
 ],
 "metadata": {
  "kernelspec": {
   "display_name": "nullclass",
   "language": "python",
   "name": "python3"
  },
  "language_info": {
   "codemirror_mode": {
    "name": "ipython",
    "version": 3
   },
   "file_extension": ".py",
   "mimetype": "text/x-python",
   "name": "python",
   "nbconvert_exporter": "python",
   "pygments_lexer": "ipython3",
   "version": "3.9.19"
  }
 },
 "nbformat": 4,
 "nbformat_minor": 2
}
